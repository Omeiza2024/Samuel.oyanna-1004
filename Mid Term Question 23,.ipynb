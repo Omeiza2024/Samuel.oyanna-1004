{
 "cells": [
  {
   "cell_type": "markdown",
   "id": "a02dfbf8-7abb-41c2-945c-ef3d38c46d2d",
   "metadata": {},
   "source": [
    "# MID-TERM BDAT-1004\n",
    "Question 23"
   ]
  },
  {
   "cell_type": "code",
   "execution_count": 6,
   "id": "43a93ab7-f062-4518-94bb-720451888815",
   "metadata": {},
   "outputs": [
    {
     "name": "stdout",
     "output_type": "stream",
     "text": [
      "****\n",
      " ***\n",
      "  **\n",
      "   *\n",
      "   *\n",
      "  **\n",
      " ***\n",
      "****\n"
     ]
    }
   ],
   "source": [
    "def tough(indent, stars):\n",
    "    if stars > 0:\n",
    "        print(\" \" * indent + \"*\" * stars)\n",
    "        \n",
    "        tough(indent + 1, stars - 1)\n",
    "        \n",
    "        print(\" \" * indent + \"*\" * stars)\n",
    "\n",
    "\n",
    "tough(0, 4) \n"
   ]
  }
 ],
 "metadata": {
  "kernelspec": {
   "display_name": "Python 3 (ipykernel)",
   "language": "python",
   "name": "python3"
  },
  "language_info": {
   "codemirror_mode": {
    "name": "ipython",
    "version": 3
   },
   "file_extension": ".py",
   "mimetype": "text/x-python",
   "name": "python",
   "nbconvert_exporter": "python",
   "pygments_lexer": "ipython3",
   "version": "3.12.4"
  }
 },
 "nbformat": 4,
 "nbformat_minor": 5
}
